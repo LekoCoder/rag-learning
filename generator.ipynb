{
  "cells": [
    {
      "cell_type": "markdown",
      "metadata": {
        "id": "view-in-github",
        "colab_type": "text"
      },
      "source": [
        "<a href=\"https://colab.research.google.com/github/LekoCoder/rag-learning/blob/master/generator.ipynb\" target=\"_parent\"><img src=\"https://colab.research.google.com/assets/colab-badge.svg\" alt=\"Open In Colab\"/></a>"
      ]
    },
    {
      "cell_type": "code",
      "execution_count": null,
      "metadata": {
        "id": "KQGCaYgiXmnL"
      },
      "outputs": [],
      "source": [
        "import openai\n",
        "from openai import OpenAI\n",
        "import time\n",
        "client = OpenAI()\n",
        "gptmodel = \"gpt-4\"\n",
        "start_time = time.time()"
      ]
    },
    {
      "cell_type": "code",
      "execution_count": null,
      "metadata": {
        "id": "rAnsUfXuYMzb"
      },
      "outputs": [],
      "source": [
        "def call_llm_with_full_text(itext):\n",
        "  text_input = '\\n'.join(itext)\n",
        "  prompt = f\"Please elaborate on the following content:\\n{text_input}\"\n",
        "\n",
        "  try:\n",
        "    response = client.chat.completions.create(\n",
        "        model = gptmodel,\n",
        "        messages = [\n",
        "            {\"role\": \"system\", \"content\": \"You are an expert Natural Language Processing\"},\n",
        "            {\"role\": \"assistant\", \"content\": \"You explained read the ..\"},\n",
        "            {\"role\": \"user\", \"content\": prompt}\n",
        "        ],\n",
        "        temperature = 0.1\n",
        "    )\n",
        "    return response.choices[0].message.content.strip()\n",
        "  except Exception as e:\n",
        "    return str(e)"
      ]
    },
    {
      "cell_type": "code",
      "execution_count": null,
      "metadata": {
        "id": "eR6vyrVgajJf"
      },
      "outputs": [],
      "source": [
        "import textwrap\n",
        "def print_formatted_response(response):\n",
        "  wrapper = textwrap.TextWrapper(width=80)\n",
        "  wrapped_text = wrapper.fill(text=response)\n",
        "  print(\"Response:\")\n",
        "  print(\"---------------\")\n",
        "  print(wrapped_text)\n",
        "  print(\"---------------\\n\")"
      ]
    },
    {
      "cell_type": "code",
      "execution_count": null,
      "metadata": {
        "id": "_gx82evz2a7T"
      },
      "outputs": [],
      "source": [
        "{\n",
        "  \"cells\": [\n",
        "    {\n",
        "      \"cell_type\": \"code\",\n",
        "      \"execution_count\": null,\n",
        "      \"metadata\": {},\n",
        "      \"outputs\": [],\n",
        "      \"source\": [\n",
        "        \"# This is a sample code cell\\n\",\n",
        "        \"print('Hello, World!')\"\n",
        "      ]\n",
        "    }\n",
        "  ],\n",
        "  \"metadata\": {\n",
        "    \"kernelspec\": {\n",
        "      \"display_name\": \"Python 3\",\n",
        "      \"language\": \"python\",\n",
        "      \"name\": \"python3\"\n",
        "    },\n",
        "    \"language_info\": {\n",
        "      \"codemirror_mode\": {\n",
        "        \"name\": \"ipython\",\n",
        "        \"version\": 3\n",
        "      },\n",
        "      \"file_extension\": \".py\",\n",
        "      \"mimetype\": \"text/x-python\",\n",
        "      \"name\": \"python\",\n",
        "      \"nbconvert_exporter\": \"python\",\n",
        "      \"pygments_lexer\": \"ipython3\",\n",
        "      \"version\": \"3.8.5\"\n",
        "    }\n",
        "  },\n",
        "  \"nbformat\": 4,\n",
        "  \"nbformat_minor\": 4\n",
        "}\n"
      ]
    }
  ],
  "metadata": {
    "colab": {
      "provenance": [],
      "toc_visible": true,
      "include_colab_link": true
    },
    "kernelspec": {
      "display_name": "Python 3",
      "name": "python3"
    }
  },
  "nbformat": 4,
  "nbformat_minor": 0
}