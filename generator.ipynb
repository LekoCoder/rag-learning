{
  "cells": [
    {
      "cell_type": "markdown",
      "metadata": {
        "id": "view-in-github",
        "colab_type": "text"
      },
      "source": [
        "<a href=\"https://colab.research.google.com/github/LekoCoder/rag-learning/blob/master/generator.ipynb\" target=\"_parent\"><img src=\"https://colab.research.google.com/assets/colab-badge.svg\" alt=\"Open In Colab\"/></a>"
      ]
    },
    {
      "cell_type": "code",
      "source": [
        "import openai\n",
        "from openai import OpenAI\n",
        "import time\n",
        "client = OpenAI()\n",
        "gptmodel = \"gpt-4\"\n",
        "start_time = time.time()"
      ],
      "metadata": {
        "id": "KQGCaYgiXmnL"
      },
      "execution_count": null,
      "outputs": []
    },
    {
      "cell_type": "code",
      "source": [
        "def call_llm_with_full_text(itext):\n",
        "  text_input = '\\n'.join(itext)\n",
        "  prompt = f\"Please elaborate on the following content:\\n{text_input}\"\n",
        "\n",
        "  try:\n",
        "    response = client.chat.completions.create(\n",
        "        model = gptmodel,\n",
        "        messages = [\n",
        "            {\"role\": \"system\", \"content\": \"You are an expert Natural Language Processing\"},\n",
        "            {\"role\": \"assistant\", \"content\": \"You explained read the ..\"},\n",
        "            {\"role\": \"user\", \"content\": prompt}\n",
        "        ],\n",
        "        temperature = 0.1\n",
        "    )\n",
        "    return response.choices[0].message.content.strip()\n",
        "  except Exception as e:\n",
        "    return str(e)"
      ],
      "metadata": {
        "id": "rAnsUfXuYMzb"
      },
      "execution_count": null,
      "outputs": []
    },
    {
      "cell_type": "code",
      "source": [
        "import textwrap\n",
        "def print_formatted_response(response):\n",
        "  wrapper = textwrap.TextWrapper(width=80)\n",
        "  wrapped_text = wrapper.fill(text=response)\n",
        "  print(\"Response:\")\n",
        "  print(\"---------------\")\n",
        "  print(wrapped_text)\n",
        "  print(\"---------------\\n\")"
      ],
      "metadata": {
        "id": "eR6vyrVgajJf"
      },
      "execution_count": null,
      "outputs": []
    }
  ],
  "metadata": {
    "colab": {
      "name": "Добро пожаловать в Colaboratory!",
      "toc_visible": true,
      "provenance": [],
      "include_colab_link": true
    },
    "kernelspec": {
      "display_name": "Python 3",
      "name": "python3"
    }
  },
  "nbformat": 4,
  "nbformat_minor": 0
}