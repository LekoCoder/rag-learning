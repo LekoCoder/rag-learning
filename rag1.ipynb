{
  "nbformat": 4,
  "nbformat_minor": 0,
  "metadata": {
    "colab": {
      "provenance": [],
      "include_colab_link": true
    },
    "kernelspec": {
      "name": "python3",
      "display_name": "Python 3"
    },
    "language_info": {
      "name": "python"
    }
  },
  "cells": [
    {
      "cell_type": "markdown",
      "metadata": {
        "id": "view-in-github",
        "colab_type": "text"
      },
      "source": [
        "<a href=\"https://colab.research.google.com/github/LekoCoder/rag-learning/blob/master/rag1.ipynb\" target=\"_parent\"><img src=\"https://colab.research.google.com/assets/colab-badge.svg\" alt=\"Open In Colab\"/></a>"
      ]
    },
    {
      "cell_type": "markdown",
      "source": [
        "## **1.Environment**"
      ],
      "metadata": {
        "id": "pZZhIzLR6sj8"
      }
    },
    {
      "cell_type": "code",
      "execution_count": null,
      "metadata": {
        "id": "8cVJ3dIn5tFg"
      },
      "outputs": [],
      "source": [
        "!pip install openai==1.40.3"
      ]
    },
    {
      "cell_type": "code",
      "source": [
        "from google.colab import drive\n",
        "drive.mount('/content/drive')\n",
        "f = open(\"drive/MyDrive/api_key.txt\", \"r\")\n",
        "API_KEY = f.readline().strip()\n",
        "f.close()"
      ],
      "metadata": {
        "id": "sVsRnmvP56kj"
      },
      "execution_count": null,
      "outputs": []
    },
    {
      "cell_type": "code",
      "source": [
        "import os\n",
        "import openai\n",
        "os.environ['OPENAI_API_KEY'] = API_KEY\n",
        "openai.api_key = os.getenv(\"OPENAI_API_KEY\")"
      ],
      "metadata": {
        "id": "2j0ww7qP6gCw"
      },
      "execution_count": null,
      "outputs": []
    },
    {
      "cell_type": "markdown",
      "source": [
        "## **2.Generator**"
      ],
      "metadata": {
        "id": "NCONtIOv7MwQ"
      }
    },
    {
      "cell_type": "code",
      "source": [
        "import openai\n",
        "from openai import OpenAI\n",
        "import time\n",
        "client = OpenAI()\n",
        "gptmodel = \"gpt-4o\"\n",
        "start_time = time.time()\n",
        "\n",
        "def call_llm_with_full_text(itext):\n",
        "\n",
        "  text_input = '\\n'.join(itext)\n",
        "  prompt = f\"Please elaborate on the following content:\\n{text_input}\"\n",
        "\n",
        "  try:\n",
        "    response = client.chat.completions.create(\n",
        "        model=gptmodel,\n",
        "        messages=[\n",
        "            {\"role\": \"system\", \"content\": \"You are an expert Natural Language Processing exercise expert.\"},\n",
        "            {\"role\": \"assistant\", \"content\": \"1.You can explain read the input and answer in detail\"},\n",
        "            {\"role\": \"user\", \"content\": prompt}\n",
        "        ],\n",
        "        temperature=0.1\n",
        "    )\n",
        "    return response.choices[0].message.content.strip()\n",
        "  except Exception as e:\n",
        "    return str(e)"
      ],
      "metadata": {
        "id": "0ELCYgbQ7Xg9"
      },
      "execution_count": null,
      "outputs": []
    },
    {
      "cell_type": "code",
      "source": [
        "import textwrap\n",
        "\n",
        "def print_formatted_response(response):\n",
        "\n",
        "  wrapper = textwrap.TextWrapper(width=80)\n",
        "  wrapped_text = wrapper.fill(text=response)\n",
        "  print(\"Response:\")\n",
        "  print(\"-----------\")\n",
        "  print(response)\n",
        "  print(\"-----------\\n\")"
      ],
      "metadata": {
        "id": "uvkRvA3V80J0"
      },
      "execution_count": null,
      "outputs": []
    },
    {
      "cell_type": "markdown",
      "source": [
        "## **3.Data**"
      ],
      "metadata": {
        "id": "9E01oV0-9oRu"
      }
    },
    {
      "cell_type": "code",
      "source": [
        "db_records = [\n",
        "    \"Retrieval Augmented Generation (RAG) represents a sophisticated hybrid approach in the field of artificial intelligence, particularly within the realm of natural language processing (NLP).\",\n",
        "    \"It innovatively combines the capabilities of neural network-based language models with retrieval systems to enhance the generation of text, making it more accurate, informative, and contextually relevant.\",\n",
        "    \"This methodology leverages the strengths of both generative and retrieval architectures to tackle complex tasks that require not only linguistic fluency but also factual correctness and depth of knowledge.\",\n",
        "    \"At the core of Retrieval Augmented Generation (RAG) is a generative model, typically a transformer-based neural network, similar to those used in models like GPT (Generative Pre-trained Transformer) or BERT (Bidirectional Encoder Representations from Transformers).\",\n",
        "    \"This component is responsible for producing coherent and contextually appropriate language outputs based on a mixture of input prompts and additional information fetched by the retrieval component.\",\n",
        "    \"Complementing the language model is the retrieval system, which is usually built on a database of documents or a corpus of texts.\",\n",
        "    \"This system uses techniques from information retrieval to find and fetch documents that are relevant to the input query or prompt.\",\n",
        "    \"The mechanism of relevance determination can range from simple keyword matching to more complex semantic search algorithms which interpret the meaning behind the query to find the best matches.\",\n",
        "    \"This component merges the outputs from the language model and the retrieval system.\",\n",
        "    \"It effectively synthesizes the raw data fetched by the retrieval system into the generative process of the language model.\",\n",
        "    \"The integrator ensures that the information from the retrieval system is seamlessly incorporated into the final text output, enhancing the model's ability to generate responses that are not only fluent and grammatically correct but also rich in factual details and context-specific nuances.\",\n",
        "    \"When a query or prompt is received, the system first processes it to understand the requirement or the context.\",\n",
        "    \"Based on the processed query, the retrieval system searches through its database to find relevant documents or information snippets.\",\n",
        "    \"This retrieval is guided by the similarity of content in the documents to the query, which can be determined through various techniques like vector embeddings or semantic similarity measures.\",\n",
        "    \"The retrieved documents are then fed into the language model.\",\n",
        "    \"In some implementations, this integration happens at the token level, where the model can access and incorporate specific pieces of information from the retrieved texts dynamically as it generates each part of the response.\",\n",
        "    \"The language model, now augmented with direct access to retrieved information, generates a response.\",\n",
        "    \"This response is not only influenced by the training of the model but also by the specific facts and details contained in the retrieved documents, making it more tailored and accurate.\",\n",
        "    \"By directly incorporating information from external sources, Retrieval Augmented Generation (RAG) models can produce responses that are more factual and relevant to the given query.\",\n",
        "    \"This is particularly useful in domains like medical advice, technical support, and other areas where precision and up-to-date knowledge are crucial.\",\n",
        "    \"Retrieval Augmented Generation (RAG) systems can dynamically adapt to new information since they retrieve data in real-time from their databases.\",\n",
        "    \"This allows them to remain current with the latest knowledge and trends without needing frequent retraining.\",\n",
        "    \"With access to a wide range of documents, Retrieval Augmented Generation (RAG) systems can provide detailed and nuanced answers that a standalone language model might not be capable of generating based solely on its pre-trained knowledge.\",\n",
        "    \"While Retrieval Augmented Generation (RAG) offers substantial benefits, it also comes with its challenges.\",\n",
        "    \"These include the complexity of integrating retrieval and generation systems, the computational overhead associated with real-time data retrieval, and the need for maintaining a large, up-to-date, and high-quality database of retrievable texts.\",\n",
        "    \"Furthermore, ensuring the relevance and accuracy of the retrieved information remains a significant challenge, as does managing the potential for introducing biases or errors from the external sources.\",\n",
        "    \"In summary, Retrieval Augmented Generation represents a significant advancement in the field of artificial intelligence, merging the best of retrieval-based and generative technologies to create systems that not only understand and generate natural language but also deeply comprehend and utilize the vast amounts of information available in textual form.\",\n",
        "    \"A RAG vector store is a database or dataset that contains vectorized data points.\"\n",
        "]"
      ],
      "metadata": {
        "id": "j5lAHpFs9t0l"
      },
      "execution_count": null,
      "outputs": []
    },
    {
      "cell_type": "code",
      "source": [
        "import textwrap\n",
        "paragraph = ' '.join(db_records)\n",
        "wrapped_text = textwrap.fill(paragraph, width=80)\n",
        "print(wrapped_text)"
      ],
      "metadata": {
        "id": "k41avqrA93KO"
      },
      "execution_count": null,
      "outputs": []
    },
    {
      "cell_type": "markdown",
      "source": [
        "## **4.The Query**"
      ],
      "metadata": {
        "id": "uFoUk3ACAZAm"
      }
    },
    {
      "cell_type": "code",
      "source": [
        "query = \"define a rag store\""
      ],
      "metadata": {
        "id": "fsmTlZ9qAfsU"
      },
      "execution_count": null,
      "outputs": []
    },
    {
      "cell_type": "code",
      "source": [
        "llm_response = call_llm_with_full_text(query)\n",
        "print_formatted_response(llm_response)"
      ],
      "metadata": {
        "id": "oJV1nXibAl6s"
      },
      "execution_count": null,
      "outputs": []
    },
    {
      "cell_type": "markdown",
      "source": [
        "## **PART 2**"
      ],
      "metadata": {
        "id": "PchENzoXdXKh"
      }
    },
    {
      "cell_type": "markdown",
      "source": [
        "## **Cosine Similarity**"
      ],
      "metadata": {
        "id": "HY8agI-deO1D"
      }
    },
    {
      "cell_type": "code",
      "source": [
        "from sklearn.feature_extraction.text import TfidfVectorizer\n",
        "from sklearn.metrics.pairwise import cosine_similarity\n",
        "\n",
        "def calculate_cosine_similarity(text1, text2):\n",
        "  vectorizer = TfidfVectorizer(\n",
        "      stop_words='english',\n",
        "      use_idf=True,\n",
        "      norm='l2',\n",
        "      ngram_range=(1, 2),\n",
        "      sublinear_tf=True,\n",
        "      analyzer='word'\n",
        "  )\n",
        "\n",
        "  tfidf = vectorizer.fit_transform([text1, text2])\n",
        "  similarity = cosine_similarity(tfidf[0:1], tfidf[1:2])\n",
        "  return similarity[0][0]"
      ],
      "metadata": {
        "id": "2LKsRLstdaQX"
      },
      "execution_count": null,
      "outputs": []
    },
    {
      "cell_type": "markdown",
      "source": [
        "## **Enhanced Similarity**"
      ],
      "metadata": {
        "id": "E70mWOk-eXnP"
      }
    },
    {
      "cell_type": "code",
      "source": [
        "import spacy\n",
        "import nltk\n",
        "nltk.download('wordnet')\n",
        "from nltk.corpus import wordnet\n",
        "from collections import Counter\n",
        "import numpy as np\n",
        "\n",
        "nlp = spacy.load(\"en_core_web_sm\")\n",
        "\n",
        "def get_synonyms(word):\n",
        "  synonyms = set()\n",
        "  for syn in wordnet.synsets(word):\n",
        "    for lemma in syn.lemmas():\n",
        "      synonyms.add(lemma.name())\n",
        "  return synonyms\n",
        "\n",
        "\n",
        "def preprocess_text(text):\n",
        "  doc = nlp(text.lower())\n",
        "  lemmatized_words = []\n",
        "  for token in doc:\n",
        "    if token.is_stop or token.is_punct:\n",
        "      continue\n",
        "    lemmatized_words.append(token.lemma_)\n",
        "  return lemmatized_words\n",
        "\n",
        "def expand_with_synonmys(words):\n",
        "  expanded_words = words.copy()\n",
        "  for word in words:\n",
        "    expanded_words.extend(get_synonyms(word))\n",
        "  return expanded_words\n",
        "\n",
        "\n",
        "def calculate_enhanced_similarity(text1, text2):\n",
        "\n",
        "  words1 = preprocess_text(text1)\n",
        "  words2 = preprocess_text(text2)\n",
        "\n",
        "  words1_expanded = expand_with_synonmys(words1)\n",
        "  words2_expanded = expand_with_synonmys(words2)\n",
        "\n",
        "  freq1 = Counter(words1_expanded)\n",
        "  freq2 = Counter(words2_expanded)\n",
        "\n",
        "  unique_words = set(freq1.keys()).union(set(freq2.keys()))\n",
        "\n",
        "  vector1 = [freq1[word] for word in unique_words]\n",
        "  vector2 = [freq2[word] for word in unique_words]\n",
        "\n",
        "  vector1 = np.array(vector1)\n",
        "  vector2 = np.array(vector2)\n",
        "\n",
        "  cosine_similarity = np.dot(vector1, vector2)/(np.linalg.norm(vector1)*np.linalg.norm(vector2))\n",
        "\n",
        "  return cosine_similarity"
      ],
      "metadata": {
        "colab": {
          "base_uri": "https://localhost:8080/"
        },
        "id": "955utQ1GedUN",
        "outputId": "9f466c5e-7177-446a-d636-53a831161108"
      },
      "execution_count": null,
      "outputs": [
        {
          "output_type": "stream",
          "name": "stderr",
          "text": [
            "[nltk_data] Downloading package wordnet to /root/nltk_data...\n",
            "[nltk_data]   Package wordnet is already up-to-date!\n"
          ]
        }
      ]
    },
    {
      "cell_type": "markdown",
      "source": [
        "## **Naive RAG**"
      ],
      "metadata": {
        "id": "fjh1XFs6hpyg"
      }
    },
    {
      "cell_type": "code",
      "source": [
        "def find_best_match_keyword_search(query, db_records):\n",
        "\n",
        "  best_score=0\n",
        "  best_record=None\n",
        "\n",
        "  query_keywords = set(query.lower().split())\n",
        "\n",
        "  for record in db_records:\n",
        "    record_keywords = set(record.lower().split())\n",
        "\n",
        "    common_keywords = query_keywords.intersection(record_keywords)\n",
        "    current_score = len(common_keywords)\n",
        "\n",
        "    if current_score > best_score:\n",
        "      best_score = current_score\n",
        "      best_record = record\n",
        "  return best_score, best_record\n",
        "\n",
        "best_keyword_score, best_matching_record = find_best_match_keyword_search(query, db_records)\n",
        "print(f\"Best Keyword Score: {best_keyword_score}\")\n",
        "print_formatted_response(best_matching_record)"
      ],
      "metadata": {
        "id": "frmyl47khtpe"
      },
      "execution_count": null,
      "outputs": []
    },
    {
      "cell_type": "markdown",
      "source": [
        "## **Metrics**"
      ],
      "metadata": {
        "id": "cod1ROL-kp9g"
      }
    },
    {
      "cell_type": "code",
      "source": [
        "score = calculate_cosine_similarity(query, best_matching_record)\n",
        "print(f\"Best Cosine Similarity Score: {score:.3f}\")"
      ],
      "metadata": {
        "id": "GljpyetcknqV"
      },
      "execution_count": null,
      "outputs": []
    },
    {
      "cell_type": "code",
      "source": [
        "response = best_matching_record\n",
        "print(query,\": \", response)\n",
        "similarity_score = calculate_enhanced_similarity(query, response)\n",
        "print(f\"Enhanced Similarity: {similarity_score:.3f}\")"
      ],
      "metadata": {
        "id": "A3IckMnflPTF",
        "outputId": "88a4afdb-aaf6-4b31-d951-69907788c224",
        "colab": {
          "base_uri": "https://localhost:8080/"
        }
      },
      "execution_count": null,
      "outputs": [
        {
          "output_type": "stream",
          "name": "stdout",
          "text": [
            "define a rag store :  A RAG vector store is a database or dataset that contains vectorized data points.\n",
            "Enhanced Similarity: 0.642\n"
          ]
        }
      ]
    },
    {
      "cell_type": "code",
      "source": [
        "augmented_input = query+\": \"+best_matching_record\n",
        "print_formatted_response(augmented_input)"
      ],
      "metadata": {
        "id": "7r9vNRhImLs_"
      },
      "execution_count": null,
      "outputs": []
    },
    {
      "cell_type": "markdown",
      "source": [
        "## **Generation**"
      ],
      "metadata": {
        "id": "_z6nxt2gm1wB"
      }
    },
    {
      "cell_type": "code",
      "source": [
        "llm_response = call_llm_with_full_text(augmented_input)\n",
        "print_formatted_response(llm_response)"
      ],
      "metadata": {
        "id": "7b4lyhoqm48w",
        "outputId": "83039005-5edc-47c1-8ee5-d4e3897b242f",
        "colab": {
          "base_uri": "https://localhost:8080/"
        }
      },
      "execution_count": null,
      "outputs": [
        {
          "output_type": "stream",
          "name": "stdout",
          "text": [
            "Response:\n",
            "-----------\n",
            "An ARAG vector store, or more generally a vector store, is a specialized type of database or dataset designed to store and manage vectorized data points. These data points are typically represented as vectors, which are mathematical objects that have both magnitude and direction. In the context of data storage and retrieval, vectors are often used to represent complex data in a numerical format that can be easily processed by algorithms.\n",
            "\n",
            "Here's a more detailed explanation of the components and uses of a vector store:\n",
            "\n",
            "1. **Vector Representation**: In a vector store, each data point is represented as a vector. This means that the data is transformed into a numerical format, often as a list or array of numbers. This transformation is typically done using techniques such as word embeddings in natural language processing, feature extraction in image processing, or other dimensionality reduction methods.\n",
            "\n",
            "2. **Storage**: The vector store is designed to efficiently store these vectors. Unlike traditional databases that might store text or categorical data, vector stores are optimized for numerical data. This allows for efficient storage and retrieval of high-dimensional data.\n",
            "\n",
            "3. **Similarity Search**: One of the primary uses of a vector store is to perform similarity searches. This involves finding vectors in the store that are similar to a given query vector. Similarity is often measured using metrics such as cosine similarity, Euclidean distance, or other distance measures. This capability is crucial for applications like recommendation systems, image retrieval, and semantic search.\n",
            "\n",
            "4. **Applications**: Vector stores are used in a variety of applications across different fields. In natural language processing, they are used to store word embeddings or sentence embeddings, enabling tasks like semantic search or document clustering. In computer vision, vector stores can be used to store feature vectors extracted from images, facilitating image recognition or similarity-based image retrieval.\n",
            "\n",
            "5. **Scalability and Performance**: Vector stores are designed to handle large volumes of data and perform operations like similarity search efficiently. They often incorporate indexing techniques, such as approximate nearest neighbor (ANN) search algorithms, to speed up query processing.\n",
            "\n",
            "Overall, an ARAG vector store or any vector store is a powerful tool for managing and retrieving vectorized data, enabling advanced data analysis and machine learning applications.\n",
            "-----------\n",
            "\n"
          ]
        }
      ]
    },
    {
      "cell_type": "markdown",
      "source": [
        "## **Vector Search**"
      ],
      "metadata": {
        "id": "V1pCWD8sqLk4"
      }
    },
    {
      "cell_type": "code",
      "source": [
        "def find_best_match(text_input, records):\n",
        "  best_score = 0\n",
        "  best_record = None\n",
        "  for record in records:\n",
        "    current_score = calculate_cosine_similarity(text_input, record)\n",
        "    if current_score > best_score:\n",
        "      best_score = current_score\n",
        "      best_record = record\n",
        "  return best_score, best_record"
      ],
      "metadata": {
        "id": "z-PF7q3BqRSo"
      },
      "execution_count": null,
      "outputs": []
    },
    {
      "cell_type": "code",
      "source": [
        "best_similarity_score, best_matching_record = find_best_match(query, db_records)\n",
        "print_formatted_response(best_matching_record)"
      ],
      "metadata": {
        "id": "ayc2-SNbrO_y",
        "outputId": "8237323c-7363-474d-b077-bd9d6380ebb2",
        "colab": {
          "base_uri": "https://localhost:8080/"
        }
      },
      "execution_count": null,
      "outputs": [
        {
          "output_type": "stream",
          "name": "stdout",
          "text": [
            "Response:\n",
            "-----------\n",
            "A RAG vector store is a database or dataset that contains vectorized data points.\n",
            "-----------\n",
            "\n"
          ]
        }
      ]
    },
    {
      "cell_type": "markdown",
      "source": [
        "## **Index-based search**"
      ],
      "metadata": {
        "id": "e97uxUXysXcg"
      }
    },
    {
      "cell_type": "code",
      "source": [
        "from sklearn.feature_extraction.text import TfidfVectorizer\n",
        "from sklearn.metrics.pairwise import cosine_similarity\n",
        "\n",
        "def setup_vectorizer(records):\n",
        "  vectorizer = TfidfVectorizer()\n",
        "  tfidf_matrix = vectorizer.fit_transform(records)\n",
        "  return vectorizer, tfidf_matrix\n",
        "\n",
        "def find_best_match(query, vectorizer, tfidf_matrix):\n",
        "  query_tfidf = vectorizer.transform([query])\n",
        "  similarities = cosine_similarity(query_tfidf, tfidf_matrix)\n",
        "  best_index = similarities.argmax()\n",
        "  best_score = similarities[0, best_index]\n",
        "  return best_score, best_index\n",
        "\n",
        "vectorizer, tfidf_matrix = setup_vectorizer(db_records)\n",
        "best_similarity_score, best_index = find_best_match(query, vectorizer, tfidf_matrix)\n",
        "best_matching_record = db_records[best_index]\n",
        "\n",
        "print_formatted_response(best_matching_record)"
      ],
      "metadata": {
        "id": "u4n23QNXsWKN",
        "outputId": "9147324f-6e1a-4353-f6ab-fb594d3c74b0",
        "colab": {
          "base_uri": "https://localhost:8080/"
        }
      },
      "execution_count": null,
      "outputs": [
        {
          "output_type": "stream",
          "name": "stdout",
          "text": [
            "Response:\n",
            "-----------\n",
            "A RAG vector store is a database or dataset that contains vectorized data points.\n",
            "-----------\n",
            "\n"
          ]
        }
      ]
    },
    {
      "cell_type": "markdown",
      "source": [
        "## **Modular RAG**"
      ],
      "metadata": {
        "id": "LMaZLzhQ8df4"
      }
    },
    {
      "cell_type": "code",
      "source": [
        "from sklearn.feature_extraction.text import TfidfVectorizer\n",
        "from sklearn.metrics.pairwise import cosine_similarity\n",
        "\n",
        "class RetrievalComponent:\n",
        "\n",
        "  def __init__(self, method = 'vector'):\n",
        "    self.method = method\n",
        "    if self.method == 'vector' or self.method == 'indexed':\n",
        "      self.vectorizer = TfidfVectorizer()\n",
        "      self.tfidf_matrix = None\n",
        "\n",
        "  def fit(self, records):\n",
        "    if self.method == 'vector' or self.method == 'indexed':\n",
        "      self.tfidf_matrix = self.vectorizer.fit_transform(records)\n",
        "\n",
        "\n",
        "  def retrieve(self, query):\n",
        "    if self.method == 'keyword':\n",
        "      return self.keyword_search(query)\n",
        "    elif self.method == 'vector':\n",
        "      return self.vector_search(query)\n",
        "    elif self.method == 'indexed':\n",
        "      return self.indexed_search(query)\n",
        "\n",
        "  def keyword_search(self, query):\n",
        "    best_score = 0\n",
        "    best_record = None\n",
        "    query_keywords = set(query.lower().split())\n",
        "    for index, doc in enumerate(self.documents):\n",
        "      doc_keywords = set(doc.lower().split())\n",
        "      common_keywords = query_keywords.intersection(doc_keywords)\n",
        "      score = len(common_keywords)\n",
        "      if score > best_score:\n",
        "        best_score = score\n",
        "        best_record = self.documents[index]\n",
        "    return best_record\n",
        "\n",
        "\n",
        "  def vector_search(self, query):\n",
        "    query_tfidf = self.vectorizer.transform([query])\n",
        "    similarities = cosine_similarity(query_tfidf, self.tfidf_matrix)\n",
        "    best_index = similarities.argmax()\n",
        "    return db_records[best_index]\n",
        "\n",
        "  def indexed_search(self, query):\n",
        "    query_tfidf = self.vectorizer.transform([query])\n",
        "    similarities = cosine_similarity(query_tfidf, self.tfidf_matrix)\n",
        "    best_index = similarities.argmax()\n",
        "    return db_records[best_index]\n"
      ],
      "metadata": {
        "id": "oxE5dx2g8jD6"
      },
      "execution_count": null,
      "outputs": []
    },
    {
      "cell_type": "code",
      "source": [
        "retrieval = RetrievalComponent(method = 'vector')\n",
        "retrieval.fit(db_records)\n",
        "best_matching_record = retrieval.retrieve(query)\n",
        "print_formatted_response(best_matching_record)"
      ],
      "metadata": {
        "id": "CtWQ0uBs_0Q1",
        "outputId": "7020afdd-f73a-4b5b-f01f-7d688f03de33",
        "colab": {
          "base_uri": "https://localhost:8080/"
        }
      },
      "execution_count": null,
      "outputs": [
        {
          "output_type": "stream",
          "name": "stdout",
          "text": [
            "Response:\n",
            "-----------\n",
            "A RAG vector store is a database or dataset that contains vectorized data points.\n",
            "-----------\n",
            "\n"
          ]
        }
      ]
    }
  ]
}